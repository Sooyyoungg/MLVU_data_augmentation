{
 "cells": [
  {
   "cell_type": "code",
   "execution_count": 20,
   "id": "1cdb4157",
   "metadata": {
    "scrolled": true
   },
   "outputs": [
    {
     "name": "stdout",
     "output_type": "stream",
     "text": [
      "Accuracy of the model on the test images: 88.49 %\n"
     ]
    }
   ],
   "source": [
    "import torch\n",
    "import torchvision\n",
    "import torchvision.transforms as transforms\n",
    "\n",
    "# Device configuration\n",
    "device = torch.device('cuda' if torch.cuda.is_available() else 'cpu')\n",
    "\n",
    "# 1. Loading CIFAR dataset\n",
    "test_dataset = torchvision.datasets.CIFAR10(root='../../data/',\n",
    "                                            train=False,\n",
    "                                            transform=transforms.ToTensor())\n",
    "\n",
    "test_loader = torch.utils.data.DataLoader(dataset=test_dataset,\n",
    "                                          batch_size=100,\n",
    "                                          shuffle=False)\n",
    "\n",
    "\"\"\"for images, labels in test_loader:\n",
    "    print(images.shape)   # torch.Size([100, 3, 32, 32])\n",
    "    print(labels.shape)   # torch.Size([100])\n",
    "    print(type(images))\"\"\"\n",
    "\n",
    "# Test the model\n",
    "model = torch.load('resnet_trained_model.ckpt')\n",
    "model.load_state_dict(torch.load('resnet_trained_model_state.ckpt'))\n",
    "model.eval()\n",
    "with torch.no_grad():\n",
    "    correct = 0\n",
    "    total = 0\n",
    "    for images, labels in test_loader:\n",
    "        images = images.to(device)\n",
    "        labels = labels.to(device)\n",
    "        outputs = model(images)\n",
    "        _, predicted = torch.max(outputs.data, 1)\n",
    "        total += labels.size(0)\n",
    "        correct += (predicted == labels).sum().item()\n",
    "\n",
    "    print('Accuracy of the model on the test images: {} %'.format(100 * correct / total))\n",
    "\n",
    "\n",
    "# Save the model checkpoint\n",
    "torch.save(model.state_dict(), 'resnet_testing.ckpt')"
   ]
  },
  {
   "cell_type": "code",
   "execution_count": 38,
   "id": "5290f433",
   "metadata": {},
   "outputs": [
    {
     "name": "stdout",
     "output_type": "stream",
     "text": [
      "torch.Size([100, 100, 3, 32, 32])\n",
      "torch.Size([100, 100])\n",
      "Accuracy of the model on the test images: 23.6 %\n"
     ]
    }
   ],
   "source": [
    "#2. Loading Segmentated dataset (our dataset)\n",
    "augmented_data = torch.load('augmented_data.pt')\n",
    "label_set = []\n",
    "for _,labels in test_loader:\n",
    "    label_set.append(labels)\n",
    "augmented_labels = torch.stack(label_set, dim=0)\n",
    "\n",
    "print(augmented_data.shape)\n",
    "print(augmented_labels.shape)\n",
    "\n",
    "# Test the model\n",
    "model = torch.load('resnet_trained_model.ckpt')\n",
    "model.load_state_dict(torch.load('resnet_trained_model_state.ckpt'))\n",
    "model.eval()\n",
    "with torch.no_grad():\n",
    "    correct = 0\n",
    "    total = 0\n",
    "    for i in range(len(augmented_data)):\n",
    "        images = augmented_data[i].to(device)\n",
    "        labels = augmented_labels[i].to(device)\n",
    "        outputs = model(images)\n",
    "        _, predicted = torch.max(outputs.data, 1)\n",
    "        total += labels.size(0)\n",
    "        correct += (predicted == labels).sum().item()\n",
    "\n",
    "    print('Accuracy of the model on the test images: {} %'.format(100 * correct / total))\n",
    "\n",
    "\n",
    "# Save the model checkpoint\n",
    "torch.save(model.state_dict(), 'resnet_augment_testing.ckpt')"
   ]
  },
  {
   "cell_type": "code",
   "execution_count": null,
   "id": "6a4e1d65",
   "metadata": {},
   "outputs": [],
   "source": []
  }
 ],
 "metadata": {
  "kernelspec": {
   "display_name": "Python 3",
   "language": "python",
   "name": "python3"
  },
  "language_info": {
   "codemirror_mode": {
    "name": "ipython",
    "version": 3
   },
   "file_extension": ".py",
   "mimetype": "text/x-python",
   "name": "python",
   "nbconvert_exporter": "python",
   "pygments_lexer": "ipython3",
   "version": "3.8.8"
  }
 },
 "nbformat": 4,
 "nbformat_minor": 5
}
